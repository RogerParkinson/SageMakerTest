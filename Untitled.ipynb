{
 "cells": [
  {
   "cell_type": "code",
   "execution_count": 1,
   "metadata": {},
   "outputs": [],
   "source": [
    "from sagemaker import get_execution_role\n",
    "\n",
    "role = get_execution_role()\n",
    "bucket = 'rjpsmtest' # Use the name of your s3 bucket here"
   ]
  },
  {
   "cell_type": "code",
   "execution_count": 2,
   "metadata": {},
   "outputs": [
    {
     "name": "stdout",
     "output_type": "stream",
     "text": [
      "CPU times: user 904 ms, sys: 298 ms, total: 1.2 s\n",
      "Wall time: 8.25 s\n"
     ]
    }
   ],
   "source": [
    "%%time\n",
    "import pickle, gzip, numpy, urllib.request, json\n",
    "\n",
    "# Load the dataset\n",
    "urllib.request.urlretrieve(\"http://deeplearning.net/data/mnist/mnist.pkl.gz\", \"mnist.pkl.gz\")\n",
    "with gzip.open('mnist.pkl.gz', 'rb') as f:\n",
    "    train_set, valid_set, test_set = pickle.load(f, encoding='latin1')"
   ]
  },
  {
   "cell_type": "code",
   "execution_count": 3,
   "metadata": {},
   "outputs": [
    {
     "data": {
      "image/png": "[encoded data removed]",
      "text/plain": [
       "<Figure size 144x720 with 1 Axes>"
      ]
     },
     "metadata": {},
     "output_type": "display_data"
    }
   ],
   "source": [
    "%matplotlib inline\n",
    "import matplotlib.pyplot as plt\n",
    "plt.rcParams[\"figure.figsize\"] = (2,10)\n",
    "\n",
    "\n",
    "def show_digit(img, caption='', subplot=None):\n",
    "    if subplot == None:\n",
    "        _, (subplot) = plt.subplots(1,1)\n",
    "    imgr = img.reshape((28,28))\n",
    "    subplot.axis('off')\n",
    "    subplot.imshow(imgr, cmap='gray')\n",
    "    plt.title(caption)\n",
    "\n",
    "show_digit(train_set[0][30], 'This is a {}'.format(train_set[1][30]))"
   ]
  },
  {
   "cell_type": "code",
   "execution_count": 4,
   "metadata": {},
   "outputs": [
    {
     "name": "stdout",
     "output_type": "stream",
     "text": [
      "training data will be uploaded to: s3://rjpsmtest/kmeans_lowlevel_example/data\n",
      "CPU times: user 8.84 s, sys: 370 ms, total: 9.21 s\n",
      "Wall time: 9.69 s\n"
     ]
    }
   ],
   "source": [
    "%%time\n",
    "from sagemaker.amazon.common import write_numpy_to_dense_tensor\n",
    "import io\n",
    "import boto3\n",
    "\n",
    "bucket = 'rjpsmtest' # Use the name of your s3 bucket here\n",
    "data_key = 'kmeans_lowlevel_example/data'\n",
    "data_location = 's3://{}/{}'.format(bucket, data_key)\n",
    "print('training data will be uploaded to: {}'.format(data_location))\n",
    "\n",
    "# Convert the training data into the format required by the SageMaker KMeans algorithm\n",
    "buf = io.BytesIO()\n",
    "write_numpy_to_dense_tensor(buf, train_set[0], train_set[1])\n",
    "buf.seek(0)\n",
    "\n",
    "boto3.resource('s3').Bucket(bucket).Object(data_key).upload_fileobj(buf)"
   ]
  },
  {
   "cell_type": "code",
   "execution_count": 5,
   "metadata": {},
   "outputs": [
    {
     "name": "stdout",
     "output_type": "stream",
     "text": [
      "training data will be uploaded to: s3://rjpsmtest/kmeans_highlevel_example/data\n",
      "training artifacts will be uploaded to: s3://rjpsmtest/kmeans_highlevel_example/output\n"
     ]
    }
   ],
   "source": [
    "from sagemaker import KMeans\n",
    "\n",
    "data_location = 's3://{}/kmeans_highlevel_example/data'.format(bucket)\n",
    "output_location = 's3://{}/kmeans_highlevel_example/output'.format(bucket)\n",
    "\n",
    "print('training data will be uploaded to: {}'.format(data_location))\n",
    "print('training artifacts will be uploaded to: {}'.format(output_location))\n",
    "\n",
    "kmeans = KMeans(role=role,\n",
    "                train_instance_count=2,\n",
    "                train_instance_type='ml.c4.8xlarge',\n",
    "                output_path=output_location,\n",
    "                k=10,\n",
    "                data_location=data_location)"
   ]
  },
  {
   "cell_type": "code",
   "execution_count": 6,
   "metadata": {},
   "outputs": [
    {
     "name": "stderr",
     "output_type": "stream",
     "text": [
      "INFO:sagemaker:Creating training-job with name: kmeans-2019-02-26-21-43-15-480\n"
     ]
    },
    {
     "name": "stdout",
     "output_type": "stream",
     "text": [
      "2019-02-26 21:43:15 Starting - Starting the training job...\n",
      "2019-02-26 21:43:19 Starting - Launching requested ML instances......\n",
      "2019-02-26 21:44:20 Starting - Preparing the instances for training...\n",
      "2019-02-26 21:45:08 Downloading - Downloading input data...\n",
      "2019-02-26 21:45:44 Training - Training image download completed. Training in progress.\n",
      "2019-02-26 21:45:44 Uploading - Uploading generated training model\n",
      "2019-02-26 21:45:44 Completed - Training job completed\n",
      "\n",
      "\u001b[32mDocker entrypoint called with argument(s): train\u001b[0m\n",
      "\u001b[31mDocker entrypoint called with argument(s): train\u001b[0m\n",
      "\u001b[31m[02/26/2019 21:45:32 INFO 139866997356352] Reading default configuration from /opt/amazon/lib/python2.7/site-packages/algorithm/resources/default-input.json: {u'_tuning_objective_metric': u'', u'_num_gpus': u'auto', u'local_lloyd_num_trials': u'auto', u'_log_level': u'info', u'_kvstore': u'auto', u'local_lloyd_init_method': u'kmeans++', u'force_dense': u'true', u'epochs': u'1', u'init_method': u'random', u'local_lloyd_tol': u'0.0001', u'local_lloyd_max_iter': u'300', u'_disable_wait_to_read': u'false', u'extra_center_factor': u'auto', u'eval_metrics': u'[\"msd\"]', u'_num_kv_servers': u'1', u'mini_batch_size': u'5000', u'half_life_time_size': u'0', u'_num_slices': u'1'}\u001b[0m\n",
      "\u001b[31m[02/26/2019 21:45:32 INFO 139866997356352] Reading provided configuration from /opt/ml/input/config/hyperparameters.json: {u'feature_dim': u'784', u'k': u'10', u'force_dense': u'True'}\u001b[0m\n",
      "\u001b[31m[02/26/2019 21:45:32 INFO 139866997356352] Final configuration: {u'k': u'10', u'_tuning_objective_metric': u'', u'_num_gpus': u'auto', u'local_lloyd_num_trials': u'auto', u'_log_level': u'info', u'_kvstore': u'auto', u'local_lloyd_init_method': u'kmeans++', u'force_dense': u'True', u'epochs': u'1', u'init_method': u'random', u'feature_dim': u'784', u'local_lloyd_tol': u'0.0001', u'local_lloyd_max_iter': u'300', u'_disable_wait_to_read': u'false', u'extra_center_factor': u'auto', u'eval_metrics': u'[\"msd\"]', u'_num_kv_servers': u'1', u'mini_batch_size': u'5000', u'half_life_time_size': u'0', u'_num_slices': u'1'}\u001b[0m\n",
      "\u001b[31m[02/26/2019 21:45:32 WARNING 139866997356352] Loggers have already been setup.\u001b[0m\n",
      "\u001b[31m[02/26/2019 21:45:32 INFO 139866997356352] Launching parameter server for role scheduler\u001b[0m\n",
      "\u001b[31m[02/26/2019 21:45:32 INFO 139866997356352] {'ECS_CONTAINER_METADATA_URI': 'http://169.254.170.2/v3/86e3d329-028d-42cc-b72a-6c240fbffa0e', 'PROTOCOL_BUFFERS_PYTHON_IMPLEMENTATION_VERSION': '2', 'PATH': '/opt/amazon/bin:/usr/local/nvidia/bin:/usr/local/sbin:/usr/local/bin:/usr/sbin:/usr/bin:/sbin:/bin:/opt/amazon/bin:/opt/amazon/bin', 'SAGEMAKER_HTTP_PORT': '8080', 'HOME': '/root', 'PYTHONUNBUFFERED': 'TRUE', 'CANONICAL_ENVROOT': '/opt/amazon', 'LD_LIBRARY_PATH': '/usr/local/nvidia/lib64:/opt/amazon/lib', 'MXNET_KVSTORE_BIGARRAY_BOUND': '400000000', 'LANG': 'en_US.utf8', 'DMLC_INTERFACE': 'ethwe', 'SHLVL': '1', 'AWS_REGION': 'ap-southeast-2', 'NVIDIA_VISIBLE_DEVICES': 'all', 'TRAINING_JOB_NAME': 'kmeans-2019-02-26-21-43-15-480', 'PROTOCOL_BUFFERS_PYTHON_IMPLEMENTATION': 'cpp', 'ENVROOT': '/opt/amazon', 'SAGEMAKER_DATA_PATH': '/opt/ml', 'NVIDIA_DRIVER_CAPABILITIES': 'compute,utility', 'NVIDIA_REQUIRE_CUDA': 'cuda>=9.0', 'OMP_NUM_THREADS': '18', 'HOSTNAME': 'aws', 'AWS_CONTAINER_CREDENTIALS_RELATIVE_URI': '/v2/credentials/1f509ab4-d902-4b49-b0ae-ecdb5c590245', 'PWD': '/', 'AWS_EXECUTION_ENV': 'AWS_ECS_EC2'}\u001b[0m\n",
      "\u001b[31m[02/26/2019 21:45:32 INFO 139866997356352] envs={'ECS_CONTAINER_METADATA_URI': 'http://169.254.170.2/v3/86e3d329-028d-42cc-b72a-6c240fbffa0e', 'PROTOCOL_BUFFERS_PYTHON_IMPLEMENTATION_VERSION': '2', 'DMLC_NUM_WORKER': '2', 'DMLC_PS_ROOT_PORT': '9000', 'PATH': '/opt/amazon/bin:/usr/local/nvidia/bin:/usr/local/sbin:/usr/local/bin:/usr/sbin:/usr/bin:/sbin:/bin:/opt/amazon/bin:/opt/amazon/bin', 'SAGEMAKER_HTTP_PORT': '8080', 'HOME': '/root', 'PYTHONUNBUFFERED': 'TRUE', 'CANONICAL_ENVROOT': '/opt/amazon', 'LD_LIBRARY_PATH': '/usr/local/nvidia/lib64:/opt/amazon/lib', 'MXNET_KVSTORE_BIGARRAY_BOUND': '400000000', 'LANG': 'en_US.utf8', 'DMLC_INTERFACE': 'ethwe', 'SHLVL': '1', 'DMLC_PS_ROOT_URI': '10.40.0.4', 'AWS_REGION': 'ap-southeast-2', 'NVIDIA_VISIBLE_DEVICES': 'all', 'TRAINING_JOB_NAME': 'kmeans-2019-02-26-21-43-15-480', 'PROTOCOL_BUFFERS_PYTHON_IMPLEMENTATION': 'cpp', 'ENVROOT': '/opt/amazon', 'SAGEMAKER_DATA_PATH': '/opt/ml', 'NVIDIA_DRIVER_CAPABILITIES': 'compute,utility', 'NVIDIA_REQUIRE_CUDA': 'cuda>=9.0', 'OMP_NUM_THREADS': '18', 'HOSTNAME': 'aws', 'AWS_CONTAINER_CREDENTIALS_RELATIVE_URI': '/v2/credentials/1f509ab4-d902-4b49-b0ae-ecdb5c590245', 'DMLC_ROLE': 'scheduler', 'PWD': '/', 'DMLC_NUM_SERVER': '1', 'AWS_EXECUTION_ENV': 'AWS_ECS_EC2'}\u001b[0m\n",
      "\u001b[31m[02/26/2019 21:45:32 INFO 139866997356352] Launching parameter server for role server\u001b[0m\n",
      "\u001b[31m[02/26/2019 21:45:32 INFO 139866997356352] {'ECS_CONTAINER_METADATA_URI': 'http://169.254.170.2/v3/86e3d329-028d-42cc-b72a-6c240fbffa0e', 'PROTOCOL_BUFFERS_PYTHON_IMPLEMENTATION_VERSION': '2', 'PATH': '/opt/amazon/bin:/usr/local/nvidia/bin:/usr/local/sbin:/usr/local/bin:/usr/sbin:/usr/bin:/sbin:/bin:/opt/amazon/bin:/opt/amazon/bin', 'SAGEMAKER_HTTP_PORT': '8080', 'HOME': '/root', 'PYTHONUNBUFFERED': 'TRUE', 'CANONICAL_ENVROOT': '/opt/amazon', 'LD_LIBRARY_PATH': '/usr/local/nvidia/lib64:/opt/amazon/lib', 'MXNET_KVSTORE_BIGARRAY_BOUND': '400000000', 'LANG': 'en_US.utf8', 'DMLC_INTERFACE': 'ethwe', 'SHLVL': '1', 'AWS_REGION': 'ap-southeast-2', 'NVIDIA_VISIBLE_DEVICES': 'all', 'TRAINING_JOB_NAME': 'kmeans-2019-02-26-21-43-15-480', 'PROTOCOL_BUFFERS_PYTHON_IMPLEMENTATION': 'cpp', 'ENVROOT': '/opt/amazon', 'SAGEMAKER_DATA_PATH': '/opt/ml', 'NVIDIA_DRIVER_CAPABILITIES': 'compute,utility', 'NVIDIA_REQUIRE_CUDA': 'cuda>=9.0', 'OMP_NUM_THREADS': '18', 'HOSTNAME': 'aws', 'AWS_CONTAINER_CREDENTIALS_RELATIVE_URI': '/v2/credentials/1f509ab4-d902-4b49-b0ae-ecdb5c590245', 'PWD': '/', 'AWS_EXECUTION_ENV': 'AWS_ECS_EC2'}\u001b[0m\n",
      "\u001b[31m[02/26/2019 21:45:32 INFO 139866997356352] envs={'ECS_CONTAINER_METADATA_URI': 'http://169.254.170.2/v3/86e3d329-028d-42cc-b72a-6c240fbffa0e', 'PROTOCOL_BUFFERS_PYTHON_IMPLEMENTATION_VERSION': '2', 'DMLC_NUM_WORKER': '2', 'DMLC_PS_ROOT_PORT': '9000', 'PATH': '/opt/amazon/bin:/usr/local/nvidia/bin:/usr/local/sbin:/usr/local/bin:/usr/sbin:/usr/bin:/sbin:/bin:/opt/amazon/bin:/opt/amazon/bin', 'SAGEMAKER_HTTP_PORT': '8080', 'HOME': '/root', 'PYTHONUNBUFFERED': 'TRUE', 'CANONICAL_ENVROOT': '/opt/amazon', 'LD_LIBRARY_PATH': '/usr/local/nvidia/lib64:/opt/amazon/lib', 'MXNET_KVSTORE_BIGARRAY_BOUND': '400000000', 'LANG': 'en_US.utf8', 'DMLC_INTERFACE': 'ethwe', 'SHLVL': '1', 'DMLC_PS_ROOT_URI': '10.40.0.4', 'AWS_REGION': 'ap-southeast-2', 'NVIDIA_VISIBLE_DEVICES': 'all', 'TRAINING_JOB_NAME': 'kmeans-2019-02-26-21-43-15-480', 'PROTOCOL_BUFFERS_PYTHON_IMPLEMENTATION': 'cpp', 'ENVROOT': '/opt/amazon', 'SAGEMAKER_DATA_PATH': '/opt/ml', 'NVIDIA_DRIVER_CAPABILITIES': 'compute,utility', 'NVIDIA_REQUIRE_CUDA': 'cuda>=9.0', 'OMP_NUM_THREADS': '18', 'HOSTNAME': 'aws', 'AWS_CONTAINER_CREDENTIALS_RELATIVE_URI': '/v2/credentials/1f509ab4-d902-4b49-b0ae-ecdb5c590245', 'DMLC_ROLE': 'server', 'PWD': '/', 'DMLC_NUM_SERVER': '1', 'AWS_EXECUTION_ENV': 'AWS_ECS_EC2'}\u001b[0m\n",
      "\u001b[31m[02/26/2019 21:45:32 INFO 139866997356352] Environment: {'ECS_CONTAINER_METADATA_URI': 'http://169.254.170.2/v3/86e3d329-028d-42cc-b72a-6c240fbffa0e', 'PROTOCOL_BUFFERS_PYTHON_IMPLEMENTATION_VERSION': '2', 'DMLC_PS_ROOT_PORT': '9000', 'DMLC_NUM_WORKER': '2', 'SAGEMAKER_HTTP_PORT': '8080', 'PATH': '/opt/amazon/bin:/usr/local/nvidia/bin:/usr/local/sbin:/usr/local/bin:/usr/sbin:/usr/bin:/sbin:/bin:/opt/amazon/bin:/opt/amazon/bin', 'PYTHONUNBUFFERED': 'TRUE', 'CANONICAL_ENVROOT': '/opt/amazon', 'LD_LIBRARY_PATH': '/usr/local/nvidia/lib64:/opt/amazon/lib', 'MXNET_KVSTORE_BIGARRAY_BOUND': '400000000', 'LANG': 'en_US.utf8', 'DMLC_INTERFACE': 'ethwe', 'SHLVL': '1', 'DMLC_PS_ROOT_URI': '10.40.0.4', 'AWS_REGION': 'ap-southeast-2', 'NVIDIA_VISIBLE_DEVICES': 'all', 'TRAINING_JOB_NAME': 'kmeans-2019-02-26-21-43-15-480', 'HOME': '/root', 'PROTOCOL_BUFFERS_PYTHON_IMPLEMENTATION': 'cpp', 'ENVROOT': '/opt/amazon', 'SAGEMAKER_DATA_PATH': '/opt/ml', 'NVIDIA_DRIVER_CAPABILITIES': 'compute,utility', 'NVIDIA_REQUIRE_CUDA': 'cuda>=9.0', 'OMP_NUM_THREADS': '18', 'HOSTNAME': 'aws', 'AWS_CONTAINER_CREDENTIALS_RELATIVE_URI': '/v2/credentials/1f509ab4-d902-4b49-b0ae-ecdb5c590245', 'DMLC_ROLE': 'worker', 'PWD': '/', 'DMLC_NUM_SERVER': '1', 'AWS_EXECUTION_ENV': 'AWS_ECS_EC2'}\u001b[0m\n",
      "\u001b[31mProcess 69 is a shell:scheduler.\u001b[0m\n",
      "\u001b[31mProcess 70 is a shell:server.\u001b[0m\n",
      "\u001b[31mProcess 1 is a worker.\u001b[0m\n",
      "\u001b[31m[02/26/2019 21:45:32 INFO 139866997356352] Using default worker.\u001b[0m\n",
      "\u001b[31m[02/26/2019 21:45:32 INFO 139866997356352] Loaded iterator creator application/x-recordio-protobuf for content type ('application/x-recordio-protobuf', '1.0')\u001b[0m\n",
      "\u001b[31m[02/26/2019 21:45:32 INFO 139866997356352] Create Store: dist_async\u001b[0m\n",
      "\u001b[32m[02/26/2019 21:45:33 INFO 140321273161536] Reading default configuration from /opt/amazon/lib/python2.7/site-packages/algorithm/resources/default-input.json: {u'_tuning_objective_metric': u'', u'_num_gpus': u'auto', u'local_lloyd_num_trials': u'auto', u'_log_level': u'info', u'_kvstore': u'auto', u'local_lloyd_init_method': u'kmeans++', u'force_dense': u'true', u'epochs': u'1', u'init_method': u'random', u'local_lloyd_tol': u'0.0001', u'local_lloyd_max_iter': u'300', u'_disable_wait_to_read': u'false', u'extra_center_factor': u'auto', u'eval_metrics': u'[\"msd\"]', u'_num_kv_servers': u'1', u'mini_batch_size': u'5000', u'half_life_time_size': u'0', u'_num_slices': u'1'}\u001b[0m\n",
      "\u001b[32m[02/26/2019 21:45:33 INFO 140321273161536] Reading provided configuration from /opt/ml/input/config/hyperparameters.json: {u'feature_dim': u'784', u'k': u'10', u'force_dense': u'True'}\u001b[0m\n",
      "\u001b[32m[02/26/2019 21:45:33 INFO 140321273161536] Final configuration: {u'k': u'10', u'_tuning_objective_metric': u'', u'_num_gpus': u'auto', u'local_lloyd_num_trials': u'auto', u'_log_level': u'info', u'_kvstore': u'auto', u'local_lloyd_init_method': u'kmeans++', u'force_dense': u'True', u'epochs': u'1', u'init_method': u'random', u'feature_dim': u'784', u'local_lloyd_tol': u'0.0001', u'local_lloyd_max_iter': u'300', u'_disable_wait_to_read': u'false', u'extra_center_factor': u'auto', u'eval_metrics': u'[\"msd\"]', u'_num_kv_servers': u'1', u'mini_batch_size': u'5000', u'half_life_time_size': u'0', u'_num_slices': u'1'}\u001b[0m\n",
      "\u001b[32m[02/26/2019 21:45:33 WARNING 140321273161536] Loggers have already been setup.\u001b[0m\n",
      "\u001b[32m[02/26/2019 21:45:33 INFO 140321273161536] Environment: {'ECS_CONTAINER_METADATA_URI': 'http://169.254.170.2/v3/49aaa011-9cf5-4f09-8fa8-ed6ab0666771', 'PROTOCOL_BUFFERS_PYTHON_IMPLEMENTATION_VERSION': '2', 'DMLC_PS_ROOT_PORT': '9000', 'DMLC_NUM_WORKER': '2', 'SAGEMAKER_HTTP_PORT': '8080', 'PATH': '/opt/amazon/bin:/usr/local/nvidia/bin:/usr/local/sbin:/usr/local/bin:/usr/sbin:/usr/bin:/sbin:/bin:/opt/amazon/bin:/opt/amazon/bin', 'PYTHONUNBUFFERED': 'TRUE', 'CANONICAL_ENVROOT': '/opt/amazon', 'LD_LIBRARY_PATH': '/usr/local/nvidia/lib64:/opt/amazon/lib', 'MXNET_KVSTORE_BIGARRAY_BOUND': '400000000', 'LANG': 'en_US.utf8', 'DMLC_INTERFACE': 'ethwe', 'SHLVL': '1', 'DMLC_PS_ROOT_URI': '10.40.0.4', 'AWS_REGION': 'ap-southeast-2', 'NVIDIA_VISIBLE_DEVICES': 'all', 'TRAINING_JOB_NAME': 'kmeans-2019-02-26-21-43-15-480', 'HOME': '/root', 'PROTOCOL_BUFFERS_PYTHON_IMPLEMENTATION': 'cpp', 'ENVROOT': '/opt/amazon', 'SAGEMAKER_DATA_PATH': '/opt/ml', 'NVIDIA_DRIVER_CAPABILITIES': 'compute,utility', 'NVIDIA_REQUIRE_CUDA': 'cuda>=9.0', 'OMP_NUM_THREADS': '18', 'HOSTNAME': 'aws', 'AWS_CONTAINER_CREDENTIALS_RELATIVE_URI': '/v2/credentials/cbbeca8a-b9a6-4fe6-9dcf-567d3a94399d', 'DMLC_ROLE': 'worker', 'PWD': '/', 'DMLC_NUM_SERVER': '1', 'AWS_EXECUTION_ENV': 'AWS_ECS_EC2'}\u001b[0m\n",
      "\u001b[32mProcess 1 is a worker.\u001b[0m\n",
      "\u001b[32m[02/26/2019 21:45:33 INFO 140321273161536] Using default worker.\u001b[0m\n",
      "\u001b[32m[02/26/2019 21:45:33 INFO 140321273161536] Loaded iterator creator application/x-recordio-protobuf for content type ('application/x-recordio-protobuf', '1.0')\u001b[0m\n",
      "\u001b[32m[02/26/2019 21:45:33 INFO 140321273161536] Create Store: dist_async\u001b[0m\n",
      "\u001b[32m[02/26/2019 21:45:33 INFO 140321273161536] nvidia-smi took: 0.0251989364624 secs to identify 0 gpus\u001b[0m\n",
      "\u001b[32m[02/26/2019 21:45:33 INFO 140321273161536] Number of GPUs being used: 0\u001b[0m\n",
      "\u001b[32m[2019-02-26 21:45:33.988] [tensorio] [info] batch={\"data_pipeline\": \"/opt/ml/input/data/train\", \"num_examples\": 5000, \"features\": [{\"name\": \"values\", \"shape\": [784], \"storage_type\": \"dense\"}]}\u001b[0m\n",
      "\u001b[32m[02/26/2019 21:45:34 INFO 140321273161536] Setting up with params: {u'k': u'10', u'_tuning_objective_metric': u'', u'_num_gpus': u'auto', u'local_lloyd_num_trials': u'auto', u'_log_level': u'info', u'_kvstore': u'auto', u'local_lloyd_init_method': u'kmeans++', u'force_dense': u'True', u'epochs': u'1', u'init_method': u'random', u'feature_dim': u'784', u'local_lloyd_tol': u'0.0001', u'local_lloyd_max_iter': u'300', u'_disable_wait_to_read': u'false', u'extra_center_factor': u'auto', u'eval_metrics': u'[\"msd\"]', u'_num_kv_servers': u'1', u'mini_batch_size': u'5000', u'half_life_time_size': u'0', u'_num_slices': u'1'}\u001b[0m\n",
      "\u001b[32m/opt/amazon/lib/python2.7/site-packages/ai_algorithms_sdk/config/config_helper.py:172: DeprecationWarning: deprecated\n",
      "  warnings.warn(\"deprecated\", DeprecationWarning)\u001b[0m\n",
      "\u001b[32m/opt/amazon/lib/python2.7/site-packages/ai_algorithms_sdk/config/config_helper.py:122: DeprecationWarning: deprecated\n",
      "  warnings.warn(\"deprecated\", DeprecationWarning)\u001b[0m\n",
      "\u001b[32m[02/26/2019 21:45:34 INFO 140321273161536] Number of GPUs being used: 0\u001b[0m\n",
      "\u001b[32m[02/26/2019 21:45:34 INFO 140321273161536] number of center slices 1\u001b[0m\n",
      "\u001b[32m#metrics {\"Metrics\": {\"Max Batches Seen Between Resets\": {\"count\": 1, \"max\": 1, \"sum\": 1.0, \"min\": 1}, \"Number of Batches Since Last Reset\": {\"count\": 1, \"max\": 1, \"sum\": 1.0, \"min\": 1}, \"Number of Records Since Last Reset\": {\"count\": 1, \"max\": 5000, \"sum\": 5000.0, \"min\": 5000}, \"Total Batches Seen\": {\"count\": 1, \"max\": 1, \"sum\": 1.0, \"min\": 1}, \"Total Records Seen\": {\"count\": 1, \"max\": 5000, \"sum\": 5000.0, \"min\": 5000}, \"Max Records Seen Between Resets\": {\"count\": 1, \"max\": 5000, \"sum\": 5000.0, \"min\": 5000}, \"Reset Count\": {\"count\": 1, \"max\": 0, \"sum\": 0.0, \"min\": 0}}, \"EndTime\": 1551217534.027918, \"Dimensions\": {\"Host\": \"algo-2\", \"Meta\": \"init_train_data_iter\", \"Operation\": \"training\", \"Algorithm\": \"AWS/KMeansWebscale\"}, \"StartTime\": 1551217534.027887}\n",
      "\u001b[0m\n",
      "\u001b[32m[2019-02-26 21:45:34.046] [tensorio] [info] data_pipeline_stats={\"name\": \"/opt/ml/input/data/train\", \"epoch\": 0, \"duration\": 59, \"num_examples\": 1}\u001b[0m\n",
      "\u001b[32m[02/26/2019 21:45:34 INFO 140321273161536] processed a total of 25000 examples\u001b[0m\n",
      "\u001b[32m[02/26/2019 21:45:34 INFO 140321273161536] #progress_metric: host=algo-2, completed 100 % of epochs\u001b[0m\n",
      "\u001b[32m#metrics {\"Metrics\": {\"Max Batches Seen Between Resets\": {\"count\": 1, \"max\": 5, \"sum\": 5.0, \"min\": 5}, \"Number of Batches Since Last Reset\": {\"count\": 1, \"max\": 5, \"sum\": 5.0, \"min\": 5}, \"Number of Records Since Last Reset\": {\"count\": 1, \"max\": 25000, \"sum\": 25000.0, \"min\": 25000}, \"Total Batches Seen\": {\"count\": 1, \"max\": 6, \"sum\": 6.0, \"min\": 6}, \"Total Records Seen\": {\"count\": 1, \"max\": 30000, \"sum\": 30000.0, \"min\": 30000}, \"Max Records Seen Between Resets\": {\"count\": 1, \"max\": 25000, \"sum\": 25000.0, \"min\": 25000}, \"Reset Count\": {\"count\": 1, \"max\": 1, \"sum\": 1.0, \"min\": 1}}, \"EndTime\": 1551217534.245677, \"Dimensions\": {\"Host\": \"algo-2\", \"Meta\": \"training_data_iter\", \"Operation\": \"training\", \"Algorithm\": \"AWS/KMeansWebscale\", \"epoch\": 0}, \"StartTime\": 1551217534.046962}\n",
      "\u001b[0m\n",
      "\u001b[32m[02/26/2019 21:45:34 INFO 140321273161536] #throughput_metric: host=algo-2, train throughput=125710.298626 records/second\u001b[0m\n",
      "\u001b[32m[02/26/2019 21:45:34 INFO 140321273161536] shrinking 100 centers into 10\u001b[0m\n",
      "\u001b[32m[02/26/2019 21:45:34 INFO 140321273161536] local kmeans attempt #0. Current mean square distance 10.947012\u001b[0m\n",
      "\u001b[32m[02/26/2019 21:45:34 INFO 140321273161536] local kmeans attempt #1. Current mean square distance 10.685562\u001b[0m\n",
      "\u001b[32m[02/26/2019 21:45:34 INFO 140321273161536] local kmeans attempt #2. Current mean square distance 11.005960\u001b[0m\n",
      "\u001b[32m[02/26/2019 21:45:34 INFO 140321273161536] local kmeans attempt #3. Current mean square distance 10.882940\u001b[0m\n",
      "\u001b[31m[02/26/2019 21:45:33 INFO 139866997356352] nvidia-smi took: 0.0252900123596 secs to identify 0 gpus\u001b[0m\n",
      "\u001b[31m[02/26/2019 21:45:33 INFO 139866997356352] Number of GPUs being used: 0\u001b[0m\n",
      "\u001b[31m[2019-02-26 21:45:33.992] [tensorio] [info] batch={\"data_pipeline\": \"/opt/ml/input/data/train\", \"num_examples\": 5000, \"features\": [{\"name\": \"values\", \"shape\": [784], \"storage_type\": \"dense\"}]}\u001b[0m\n",
      "\u001b[31m[02/26/2019 21:45:34 INFO 139866997356352] Setting up with params: {u'k': u'10', u'_tuning_objective_metric': u'', u'_num_gpus': u'auto', u'local_lloyd_num_trials': u'auto', u'_log_level': u'info', u'_kvstore': u'auto', u'local_lloyd_init_method': u'kmeans++', u'force_dense': u'True', u'epochs': u'1', u'init_method': u'random', u'feature_dim': u'784', u'local_lloyd_tol': u'0.0001', u'local_lloyd_max_iter': u'300', u'_disable_wait_to_read': u'false', u'extra_center_factor': u'auto', u'eval_metrics': u'[\"msd\"]', u'_num_kv_servers': u'1', u'mini_batch_size': u'5000', u'half_life_time_size': u'0', u'_num_slices': u'1'}\u001b[0m\n",
      "\u001b[31m/opt/amazon/lib/python2.7/site-packages/ai_algorithms_sdk/config/config_helper.py:172: DeprecationWarning: deprecated\n",
      "  warnings.warn(\"deprecated\", DeprecationWarning)\u001b[0m\n",
      "\u001b[31m/opt/amazon/lib/python2.7/site-packages/ai_algorithms_sdk/config/config_helper.py:122: DeprecationWarning: deprecated\n",
      "  warnings.warn(\"deprecated\", DeprecationWarning)\u001b[0m\n",
      "\u001b[31m[02/26/2019 21:45:34 INFO 139866997356352] Number of GPUs being used: 0\u001b[0m\n",
      "\u001b[31m[02/26/2019 21:45:34 INFO 139866997356352] number of center slices 1\u001b[0m\n",
      "\u001b[31m#metrics {\"Metrics\": {\"Max Batches Seen Between Resets\": {\"count\": 1, \"max\": 1, \"sum\": 1.0, \"min\": 1}, \"Number of Batches Since Last Reset\": {\"count\": 1, \"max\": 1, \"sum\": 1.0, \"min\": 1}, \"Number of Records Since Last Reset\": {\"count\": 1, \"max\": 5000, \"sum\": 5000.0, \"min\": 5000}, \"Total Batches Seen\": {\"count\": 1, \"max\": 1, \"sum\": 1.0, \"min\": 1}, \"Total Records Seen\": {\"count\": 1, \"max\": 5000, \"sum\": 5000.0, \"min\": 5000}, \"Max Records Seen Between Resets\": {\"count\": 1, \"max\": 5000, \"sum\": 5000.0, \"min\": 5000}, \"Reset Count\": {\"count\": 1, \"max\": 0, \"sum\": 0.0, \"min\": 0}}, \"EndTime\": 1551217534.030643, \"Dimensions\": {\"Host\": \"algo-1\", \"Meta\": \"init_train_data_iter\", \"Operation\": \"training\", \"Algorithm\": \"AWS/KMeansWebscale\"}, \"StartTime\": 1551217534.030611}\n",
      "\u001b[0m\n",
      "\u001b[31m[2019-02-26 21:45:34.034] [tensorio] [info] data_pipeline_stats={\"name\": \"/opt/ml/input/data/train\", \"epoch\": 0, \"duration\": 42, \"num_examples\": 1}\u001b[0m\n",
      "\u001b[31m[02/26/2019 21:45:34 INFO 139866997356352] processed a total of 25000 examples\u001b[0m\n",
      "\u001b[31m[02/26/2019 21:45:34 INFO 139866997356352] #progress_metric: host=algo-1, completed 100 % of epochs\u001b[0m\n",
      "\u001b[31m#metrics {\"Metrics\": {\"Max Batches Seen Between Resets\": {\"count\": 1, \"max\": 5, \"sum\": 5.0, \"min\": 5}, \"Number of Batches Since Last Reset\": {\"count\": 1, \"max\": 5, \"sum\": 5.0, \"min\": 5}, \"Number of Records Since Last Reset\": {\"count\": 1, \"max\": 25000, \"sum\": 25000.0, \"min\": 25000}, \"Total Batches Seen\": {\"count\": 1, \"max\": 6, \"sum\": 6.0, \"min\": 6}, \"Total Records Seen\": {\"count\": 1, \"max\": 30000, \"sum\": 30000.0, \"min\": 30000}, \"Max Records Seen Between Resets\": {\"count\": 1, \"max\": 25000, \"sum\": 25000.0, \"min\": 25000}, \"Reset Count\": {\"count\": 1, \"max\": 1, \"sum\": 1.0, \"min\": 1}}, \"EndTime\": 1551217534.220809, \"Dimensions\": {\"Host\": \"algo-1\", \"Meta\": \"training_data_iter\", \"Operation\": \"training\", \"Algorithm\": \"AWS/KMeansWebscale\", \"epoch\": 0}, \"StartTime\": 1551217534.034541}\n",
      "\u001b[0m\n",
      "\u001b[31m[02/26/2019 21:45:34 INFO 139866997356352] #throughput_metric: host=algo-1, train throughput=133910.39828 records/second\u001b[0m\n",
      "\u001b[31m[02/26/2019 21:45:34 INFO 139866997356352] shrinking 100 centers into 10\u001b[0m\n",
      "\u001b[31m[02/26/2019 21:45:34 INFO 139866997356352] local kmeans attempt #0. Current mean square distance 10.619554\u001b[0m\n",
      "\u001b[31m[02/26/2019 21:45:34 INFO 139866997356352] local kmeans attempt #1. Current mean square distance 11.255171\u001b[0m\n",
      "\u001b[31m[02/26/2019 21:45:34 INFO 139866997356352] local kmeans attempt #2. Current mean square distance 11.046221\u001b[0m\n",
      "\u001b[31m[02/26/2019 21:45:34 INFO 139866997356352] local kmeans attempt #3. Current mean square distance 10.749738\u001b[0m\n",
      "\u001b[31m[02/26/2019 21:45:34 INFO 139866997356352] local kmeans attempt #4. Current mean square distance 11.100953\u001b[0m\n",
      "\u001b[31m[02/26/2019 21:45:34 INFO 139866997356352] local kmeans attempt #5. Current mean square distance 10.551700\u001b[0m\n",
      "\u001b[31m[02/26/2019 21:45:34 INFO 139866997356352] local kmeans attempt #6. Current mean square distance 11.029855\u001b[0m\n",
      "\u001b[31m[02/26/2019 21:45:34 INFO 139866997356352] local kmeans attempt #7. Current mean square distance 10.517540\u001b[0m\n",
      "\u001b[31m[02/26/2019 21:45:34 INFO 139866997356352] local kmeans attempt #8. Current mean square distance 10.923836\u001b[0m\n",
      "\u001b[31m[02/26/2019 21:45:34 INFO 139866997356352] local kmeans attempt #9. Current mean square distance 11.544111\u001b[0m\n",
      "\u001b[31m[02/26/2019 21:45:34 INFO 139866997356352] finished shrinking process. Mean Square Distance = 11\u001b[0m\n",
      "\u001b[31m[02/26/2019 21:45:34 INFO 139866997356352] #quality_metric: host=algo-1, train msd <loss>=10.517539978\u001b[0m\n",
      "\u001b[31m[02/26/2019 21:45:34 INFO 139866997356352] batch data loading with context took: 23.5368%, (0.044178 secs)\u001b[0m\n",
      "\u001b[31m[02/26/2019 21:45:34 INFO 139866997356352] compute all data-center distances: inner product took: 21.0046%, (0.039425 secs)\u001b[0m\n",
      "\u001b[31m[02/26/2019 21:45:34 INFO 139866997356352] compute all data-center distances: point norm took: 19.8143%, (0.037191 secs)\u001b[0m\n",
      "\u001b[31m[02/26/2019 21:45:34 INFO 139866997356352] predict compute msd took: 14.6459%, (0.027490 secs)\u001b[0m\n",
      "\u001b[31m[02/26/2019 21:45:34 INFO 139866997356352] gradient: cluster center took: 9.3679%, (0.017583 secs)\u001b[0m\n",
      "\u001b[31m[02/26/2019 21:45:34 INFO 139866997356352] collect from kv store took: 3.9057%, (0.007331 secs)\u001b[0m\n",
      "\u001b[31m[02/26/2019 21:45:34 INFO 139866997356352] gradient: cluster size  took: 2.2608%, (0.004243 secs)\u001b[0m\n",
      "\u001b[31m[02/26/2019 21:45:34 INFO 139866997356352] splitting centers key-value pair took: 1.9052%, (0.003576 secs)\u001b[0m\n",
      "\u001b[31m[02/26/2019 21:45:34 INFO 139866997356352] gradient: one_hot took: 1.8705%, (0.003511 secs)\u001b[0m\n",
      "\u001b[31m[02/26/2019 21:45:34 INFO 139866997356352] update state and report convergance took: 0.7902%, (0.001483 secs)\u001b[0m\n",
      "\u001b[31m[02/26/2019 21:45:34 INFO 139866997356352] compute all data-center distances: center norm took: 0.7322%, (0.001374 secs)\u001b[0m\n",
      "\u001b[31m[02/26/2019 21:45:34 INFO 139866997356352] update set-up time took: 0.1002%, (0.000188 secs)\u001b[0m\n",
      "\u001b[31m[02/26/2019 21:45:34 INFO 139866997356352] predict minus dist took: 0.0657%, (0.000123 secs)\u001b[0m\n",
      "\u001b[31m[02/26/2019 21:45:34 INFO 139866997356352] TOTAL took: 0.187696456909\u001b[0m\n",
      "\u001b[31m[02/26/2019 21:45:34 INFO 139866997356352] Number of GPUs being used: 0\u001b[0m\n",
      "\u001b[31m#metrics {\"Metrics\": {\"finalize.time\": {\"count\": 1, \"max\": 382.80510902404785, \"sum\": 382.80510902404785, \"min\": 382.80510902404785}, \"initialize.time\": {\"count\": 1, \"max\": 16.409873962402344, \"sum\": 16.409873962402344, \"min\": 16.409873962402344}, \"model.serialize.time\": {\"count\": 1, \"max\": 0.20599365234375, \"sum\": 0.20599365234375, \"min\": 0.20599365234375}, \"update.time\": {\"count\": 1, \"max\": 186.07592582702637, \"sum\": 186.07592582702637, \"min\": 186.07592582702637}, \"epochs\": {\"count\": 1, \"max\": 1, \"sum\": 1.0, \"min\": 1}, \"state.serialize.time\": {\"count\": 1, \"max\": 1.0380744934082031, \"sum\": 1.0380744934082031, \"min\": 1.0380744934082031}, \"_shrink.time\": {\"count\": 1, \"max\": 380.77616691589355, \"sum\": 380.77616691589355, \"min\": 380.77616691589355}}, \"EndTime\": 1551217534.632762, \"Dimensions\": {\"Host\": \"algo-1\", \"Operation\": \"training\", \"Algorithm\": \"AWS/KMeansWebscale\"}, \"StartTime\": 1551217533.990191}\n",
      "\u001b[0m\n",
      "\u001b[31m[02/26/2019 21:45:34 INFO 139866997356352] Test data is not provided.\u001b[0m\n",
      "\u001b[31m[2019-02-26 21:45:34.633] [tensorio] [info] data_pipeline_stats={\"name\": \"/opt/ml/input/data/train\", \"epoch\": 1, \"duration\": 598, \"num_examples\": 5}\u001b[0m\n",
      "\u001b[31m[2019-02-26 21:45:34.633] [tensorio] [info] data_pipeline_stats={\"name\": \"/opt/ml/input/data/train\", \"duration\": 640, \"num_epochs\": 2, \"num_examples\": 6}\u001b[0m\n",
      "\u001b[31m#metrics {\"Metrics\": {\"totaltime\": {\"count\": 1, \"max\": 2003.5560131072998, \"sum\": 2003.5560131072998, \"min\": 2003.5560131072998}, \"setuptime\": {\"count\": 1, \"max\": 25.38299560546875, \"sum\": 25.38299560546875, \"min\": 25.38299560546875}}, \"EndTime\": 1551217534.63801, \"Dimensions\": {\"Host\": \"algo-1\", \"Operation\": \"training\", \"Algorithm\": \"AWS/KMeansWebscale\"}, \"StartTime\": 1551217534.632875}\n",
      "\u001b[0m\n",
      "\u001b[32m[02/26/2019 21:45:34 INFO 140321273161536] local kmeans attempt #4. Current mean square distance 11.276852\u001b[0m\n",
      "\u001b[32m[02/26/2019 21:45:34 INFO 140321273161536] local kmeans attempt #5. Current mean square distance 10.549483\u001b[0m\n",
      "\u001b[32m[02/26/2019 21:45:34 INFO 140321273161536] local kmeans attempt #6. Current mean square distance 11.221777\u001b[0m\n",
      "\u001b[32m[02/26/2019 21:45:34 INFO 140321273161536] local kmeans attempt #7. Current mean square distance 10.432425\u001b[0m\n",
      "\u001b[32m[02/26/2019 21:45:34 INFO 140321273161536] local kmeans attempt #8. Current mean square distance 11.060770\u001b[0m\n",
      "\u001b[32m[02/26/2019 21:45:34 INFO 140321273161536] local kmeans attempt #9. Current mean square distance 11.776178\u001b[0m\n",
      "\u001b[32m[02/26/2019 21:45:34 INFO 140321273161536] finished shrinking process. Mean Square Distance = 10\u001b[0m\n",
      "\u001b[32m[02/26/2019 21:45:34 INFO 140321273161536] #quality_metric: host=algo-2, train msd <loss>=10.432425499\u001b[0m\n",
      "\u001b[32m[02/26/2019 21:45:34 INFO 140321273161536] batch data loading with context took: 20.7228%, (0.041606 secs)\u001b[0m\n",
      "\u001b[32m[02/26/2019 21:45:34 INFO 140321273161536] compute all data-center distances: point norm took: 20.3044%, (0.040766 secs)\u001b[0m\n",
      "\u001b[32m[02/26/2019 21:45:34 INFO 140321273161536] compute all data-center distances: inner product took: 18.8286%, (0.037803 secs)\u001b[0m\n",
      "\u001b[32m[02/26/2019 21:45:34 INFO 140321273161536] predict compute msd took: 14.3829%, (0.028877 secs)\u001b[0m\n",
      "\u001b[32m[02/26/2019 21:45:34 INFO 140321273161536] gradient: cluster center took: 9.0021%, (0.018074 secs)\u001b[0m\n",
      "\u001b[32m[02/26/2019 21:45:34 INFO 140321273161536] collect from kv store took: 7.7377%, (0.015535 secs)\u001b[0m\n",
      "\u001b[32m[02/26/2019 21:45:34 INFO 140321273161536] gradient: one_hot took: 3.4973%, (0.007022 secs)\u001b[0m\n",
      "\u001b[32m[02/26/2019 21:45:34 INFO 140321273161536] splitting centers key-value pair took: 2.0928%, (0.004202 secs)\u001b[0m\n",
      "\u001b[32m[02/26/2019 21:45:34 INFO 140321273161536] gradient: cluster size  took: 1.7926%, (0.003599 secs)\u001b[0m\n",
      "\u001b[32m[02/26/2019 21:45:34 INFO 140321273161536] update state and report convergance took: 0.7352%, (0.001476 secs)\u001b[0m\n",
      "\u001b[32m[02/26/2019 21:45:34 INFO 140321273161536] compute all data-center distances: center norm took: 0.7298%, (0.001465 secs)\u001b[0m\n",
      "\u001b[32m[02/26/2019 21:45:34 INFO 140321273161536] update set-up time took: 0.1090%, (0.000219 secs)\u001b[0m\n",
      "\u001b[32m[02/26/2019 21:45:34 INFO 140321273161536] predict minus dist took: 0.0647%, (0.000130 secs)\u001b[0m\n",
      "\u001b[32m[02/26/2019 21:45:34 INFO 140321273161536] TOTAL took: 0.200773954391\u001b[0m\n",
      "\u001b[32m[02/26/2019 21:45:34 INFO 140321273161536] Number of GPUs being used: 0\u001b[0m\n",
      "\u001b[32m[02/26/2019 21:45:34 INFO 140321273161536] No model is serialized on a non-master node\u001b[0m\n",
      "\u001b[32m#metrics {\"Metrics\": {\"finalize.time\": {\"count\": 1, \"max\": 388.3640766143799, \"sum\": 388.3640766143799, \"min\": 388.3640766143799}, \"initialize.time\": {\"count\": 1, \"max\": 19.456148147583008, \"sum\": 19.456148147583008, \"min\": 19.456148147583008}, \"model.serialize.time\": {\"count\": 1, \"max\": 0.080108642578125, \"sum\": 0.080108642578125, \"min\": 0.080108642578125}, \"update.time\": {\"count\": 1, \"max\": 198.52399826049805, \"sum\": 198.52399826049805, \"min\": 198.52399826049805}, \"epochs\": {\"count\": 1, \"max\": 1, \"sum\": 1.0, \"min\": 1}, \"state.serialize.time\": {\"count\": 1, \"max\": 0.5538463592529297, \"sum\": 0.5538463592529297, \"min\": 0.5538463592529297}, \"_shrink.time\": {\"count\": 1, \"max\": 385.2570056915283, \"sum\": 385.2570056915283, \"min\": 385.2570056915283}}, \"EndTime\": 1551217534.635373, \"Dimensions\": {\"Host\": \"algo-2\", \"Operation\": \"training\", \"Algorithm\": \"AWS/KMeansWebscale\"}, \"StartTime\": 1551217533.98603}\n",
      "\u001b[0m\n",
      "\u001b[32m[02/26/2019 21:45:34 INFO 140321273161536] Test data is not provided.\u001b[0m\n",
      "\u001b[32m[2019-02-26 21:45:34.635] [tensorio] [info] data_pipeline_stats={\"name\": \"/opt/ml/input/data/train\", \"epoch\": 1, \"duration\": 588, \"num_examples\": 5}\u001b[0m\n",
      "\u001b[32m[2019-02-26 21:45:34.635] [tensorio] [info] data_pipeline_stats={\"name\": \"/opt/ml/input/data/train\", \"duration\": 647, \"num_epochs\": 2, \"num_examples\": 6}\u001b[0m\n",
      "\u001b[32m#metrics {\"Metrics\": {\"totaltime\": {\"count\": 1, \"max\": 729.144811630249, \"sum\": 729.144811630249, \"min\": 729.144811630249}, \"setuptime\": {\"count\": 1, \"max\": 16.16191864013672, \"sum\": 16.16191864013672, \"min\": 16.16191864013672}}, \"EndTime\": 1551217534.640127, \"Dimensions\": {\"Host\": \"algo-2\", \"Operation\": \"training\", \"Algorithm\": \"AWS/KMeansWebscale\"}, \"StartTime\": 1551217534.635488}\n",
      "\u001b[0m\n"
     ]
    },
    {
     "name": "stdout",
     "output_type": "stream",
     "text": [
      "Billable seconds: 73\n",
      "CPU times: user 8.06 s, sys: 568 ms, total: 8.63 s\n",
      "Wall time: 2min 51s\n"
     ]
    }
   ],
   "source": [
    "%%time\n",
    "\n",
    "kmeans.fit(kmeans.record_set(train_set[0]))"
   ]
  },
  {
   "cell_type": "code",
   "execution_count": 7,
   "metadata": {},
   "outputs": [
    {
     "name": "stderr",
     "output_type": "stream",
     "text": [
      "INFO:sagemaker:Creating model with name: kmeans-2019-02-26-21-51-56-324\n",
      "INFO:sagemaker:Creating endpoint with name kmeans-2019-02-26-21-43-15-480\n"
     ]
    },
    {
     "name": "stdout",
     "output_type": "stream",
     "text": [
      "---------------------------------------------------------------------------!CPU times: user 396 ms, sys: 11.4 ms, total: 408 ms\n",
      "Wall time: 6min 20s\n"
     ]
    }
   ],
   "source": [
    "%%time\n",
    "\n",
    "kmeans_predictor = kmeans.deploy(initial_instance_count=1,\n",
    "                                 instance_type='ml.m4.xlarge')"
   ]
  },
  {
   "cell_type": "code",
   "execution_count": 14,
   "metadata": {},
   "outputs": [
    {
     "name": "stderr",
     "output_type": "stream",
     "text": [
      "INFO:sagemaker:Creating transform job with name: Batch-Transform-2019-02-26-22-12-19-725\n"
     ]
    },
    {
     "name": "stdout",
     "output_type": "stream",
     "text": [
      "..............................................!\n",
      "Sample transform result: {\"closest_cluster\":5.0,\"distance_to_cluster\":6.164397716522217}\n",
      "\n"
     ]
    }
   ],
   "source": [
    "\n",
    "import boto3\n",
    "import sagemaker\n",
    "import json\n",
    "\n",
    "input_key = 'kmeans_batch_example/input/valid-data.csv'\n",
    "input_location = 's3://{}/{}'.format(bucket, input_key)\n",
    "output_location = 's3://{}/kmeans_batch_example/output'.format(bucket)\n",
    "model_name = 'kmeans-2019-02-26-21-51-56-324'\n",
    "\n",
    "### Convert the validation set NumPy array to a CSV file and upload it to Amazon S3\n",
    "numpy.savetxt('valid-data.csv', valid_set[0], delimiter=',', fmt='%g')\n",
    "s3_client = boto3.client('s3')\n",
    "s3_client.upload_file('valid-data.csv', bucket, input_key)\n",
    "\n",
    "# Initialize the transformer object\n",
    "transformer =sagemaker.transformer.Transformer(\n",
    "    base_transform_job_name='Batch-Transform',\n",
    "    model_name=model_name,\n",
    "    instance_count=1,\n",
    "    instance_type='ml.c4.xlarge',\n",
    "    output_path=output_location\n",
    "    )\n",
    "# Start a transform job\n",
    "transformer.transform(input_location, content_type='text/csv', split_type='Line')\n",
    "# Then wait until the transform job has completed\n",
    "transformer.wait()\n",
    "\n",
    "# Fetch validation result \n",
    "s3_client.download_file(bucket, 'kmeans_batch_example/output/valid-data.csv.out', 'valid-result')\n",
    "with open('valid-result') as f:\n",
    "    results = f.readlines()   \n",
    "print(\"Sample transform result: {}\".format(results[0]))\n",
    "\n",
    "        "
   ]
  },
  {
   "cell_type": "code",
   "execution_count": 15,
   "metadata": {},
   "outputs": [
    {
     "name": "stdout",
     "output_type": "stream",
     "text": [
      "[label {\n",
      "  key: \"closest_cluster\"\n",
      "  value {\n",
      "    float32_tensor {\n",
      "      values: 8.0\n",
      "    }\n",
      "  }\n",
      "}\n",
      "label {\n",
      "  key: \"distance_to_cluster\"\n",
      "  value {\n",
      "    float32_tensor {\n",
      "      values: 5.7406415939331055\n",
      "    }\n",
      "  }\n",
      "}\n",
      "]\n"
     ]
    }
   ],
   "source": [
    "result = kmeans_predictor.predict(valid_set[0][30:31])\n",
    "print(result)"
   ]
  },
  {
   "cell_type": "code",
   "execution_count": 16,
   "metadata": {},
   "outputs": [
    {
     "name": "stdout",
     "output_type": "stream",
     "text": [
      "CPU times: user 35 ms, sys: 68 µs, total: 35.1 ms\n",
      "Wall time: 282 ms\n"
     ]
    }
   ],
   "source": [
    "%%time \n",
    "\n",
    "result = kmeans_predictor.predict(valid_set[0][0:100])\n",
    "clusters = [r.label['closest_cluster'].float32_tensor.values[0] for r in result]"
   ]
  },
  {
   "cell_type": "code",
   "execution_count": 17,
   "metadata": {},
   "outputs": [
    {
     "name": "stdout",
     "output_type": "stream",
     "text": [
      "\n",
      "\n",
      "\n",
      "Cluster 0:\n"
     ]
    },
    {
     "data": {
      "image/png": "[encoded data removed]",
      "text/plain": [
       "<Figure size 360x144 with 10 Axes>"
      ]
     },
     "metadata": {},
     "output_type": "display_data"
    },
    {
     "name": "stdout",
     "output_type": "stream",
     "text": [
      "\n",
      "\n",
      "\n",
      "Cluster 1:\n"
     ]
    },
    {
     "data": {
      "image/png": "[encoded data removed]",
      "text/plain": [
       "<Figure size 360x144 with 10 Axes>"
      ]
     },
     "metadata": {},
     "output_type": "display_data"
    },
    {
     "name": "stdout",
     "output_type": "stream",
     "text": [
      "\n",
      "\n",
      "\n",
      "Cluster 2:\n"
     ]
    },
    {
     "data": {
      "image/png": "[encoded data removed]",
      "text/plain": [
       "<Figure size 360x216 with 15 Axes>"
      ]
     },
     "metadata": {},
     "output_type": "display_data"
    },
    {
     "name": "stdout",
     "output_type": "stream",
     "text": [
      "\n",
      "\n",
      "\n",
      "Cluster 3:\n"
     ]
    },
    {
     "data": {
      "image/png": "[encoded data removed]",
      "text/plain": [
       "<Figure size 360x144 with 10 Axes>"
      ]
     },
     "metadata": {},
     "output_type": "display_data"
    },
    {
     "name": "stdout",
     "output_type": "stream",
     "text": [
      "\n",
      "\n",
      "\n",
      "Cluster 4:\n"
     ]
    },
    {
     "data": {
      "image/png": "[encoded data removed]",
      "text/plain": [
       "<Figure size 360x216 with 15 Axes>"
      ]
     },
     "metadata": {},
     "output_type": "display_data"
    },
    {
     "name": "stdout",
     "output_type": "stream",
     "text": [
      "\n",
      "\n",
      "\n",
      "Cluster 5:\n"
     ]
    },
    {
     "data": {
      "image/png": "[encoded data removed]",
      "text/plain": [
       "<Figure size 360x216 with 15 Axes>"
      ]
     },
     "metadata": {},
     "output_type": "display_data"
    },
    {
     "name": "stdout",
     "output_type": "stream",
     "text": [
      "\n",
      "\n",
      "\n",
      "Cluster 6:\n"
     ]
    },
    {
     "data": {
      "image/png": "[encoded data removed]",
      "text/plain": [
       "<Figure size 360x216 with 15 Axes>"
      ]
     },
     "metadata": {},
     "output_type": "display_data"
    },
    {
     "name": "stdout",
     "output_type": "stream",
     "text": [
      "\n",
      "\n",
      "\n",
      "Cluster 7:\n"
     ]
    },
    {
     "data": {
      "image/png": "[encoded data removed]",
      "text/plain": [
       "<Figure size 360x72 with 5 Axes>"
      ]
     },
     "metadata": {},
     "output_type": "display_data"
    },
    {
     "name": "stdout",
     "output_type": "stream",
     "text": [
      "\n",
      "\n",
      "\n",
      "Cluster 8:\n"
     ]
    },
    {
     "data": {
      "image/png": "[encoded data removed]",
      "text/plain": [
       "<Figure size 360x216 with 15 Axes>"
      ]
     },
     "metadata": {},
     "output_type": "display_data"
    },
    {
     "name": "stdout",
     "output_type": "stream",
     "text": [
      "\n",
      "\n",
      "\n",
      "Cluster 9:\n"
     ]
    },
    {
     "data": {
      "image/png": "[encoded data removed]",
      "text/plain": [
       "<Figure size 360x144 with 10 Axes>"
      ]
     },
     "metadata": {},
     "output_type": "display_data"
    }
   ],
   "source": [
    "for cluster in range(10):\n",
    "    print('\\n\\n\\nCluster {}:'.format(int(cluster)))\n",
    "    digits = [ img for l, img in zip(clusters, valid_set[0]) if int(l) == cluster ]\n",
    "    height = ((len(digits)-1)//5) + 1\n",
    "    width = 5\n",
    "    plt.rcParams[\"figure.figsize\"] = (width,height)\n",
    "    _, subplots = plt.subplots(height, width)\n",
    "    subplots = numpy.ndarray.flatten(subplots)\n",
    "    for subplot, image in zip(subplots, digits):\n",
    "        show_digit(image, subplot=subplot)\n",
    "    for subplot in subplots[len(digits):]:\n",
    "        subplot.axis('off')\n",
    "\n",
    "    plt.show()"
   ]
  },
  {
   "cell_type": "code",
   "execution_count": 18,
   "metadata": {},
   "outputs": [
    {
     "name": "stdout",
     "output_type": "stream",
     "text": [
      "On branch master\r\n",
      "Your branch is up-to-date with 'origin/master'.\r\n",
      "\r\n",
      "Untracked files:\r\n",
      "  (use \"git add <file>...\" to include in what will be committed)\r\n",
      "\r\n",
      "\t\u001b[31m.ipynb_checkpoints/\u001b[m\r\n",
      "\t\u001b[31mUntitled.ipynb\u001b[m\r\n",
      "\t\u001b[31mmnist.pkl.gz\u001b[m\r\n",
      "\t\u001b[31mvalid-data.csv\u001b[m\r\n",
      "\t\u001b[31mvalid-result\u001b[m\r\n",
      "\r\n",
      "nothing added to commit but untracked files present (use \"git add\" to track)\r\n"
     ]
    }
   ],
   "source": [
    "!git status"
   ]
  },
  {
   "cell_type": "code",
   "execution_count": null,
   "metadata": {},
   "outputs": [],
   "source": [
    "!git commit -a "
   ]
  }
 ],
 "metadata": {
  "kernelspec": {
   "display_name": "conda_python3",
   "language": "python",
   "name": "conda_python3"
  },
  "language_info": {
   "codemirror_mode": {
    "name": "ipython",
    "version": 3
   },
   "file_extension": ".py",
   "mimetype": "text/x-python",
   "name": "python",
   "nbconvert_exporter": "python",
   "pygments_lexer": "ipython3",
   "version": "3.6.5"
  }
 },
 "nbformat": 4,
 "nbformat_minor": 2
}
